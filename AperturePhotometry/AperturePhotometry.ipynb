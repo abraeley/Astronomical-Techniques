{
 "cells": [
  {
   "cell_type": "markdown",
   "metadata": {},
   "source": [
    "Alan Braeley and Christian Ruiz"
   ]
  },
  {
   "cell_type": "code",
   "execution_count": 1,
   "metadata": {
    "collapsed": true
   },
   "outputs": [],
   "source": [
    "# The standard fare:\n",
    "import numpy as np\n",
    "import matplotlib.pyplot as plt\n",
    "import pandas as pd\n",
    "%matplotlib inline\n",
    "from astropy.io import fits \n",
    "import astropy.stats as stat\n",
    "\n",
    "from photutils import aperture_photometry, CircularAperture, CircularAnnulus, DAOStarFinder"
   ]
  },
  {
   "cell_type": "markdown",
   "metadata": {},
   "source": [
    "# Aperture Photometry with Python Photutils\n",
    "\n",
    "## 9.1 - Getting Started\n",
    "\n",
    "The goal of this lab is to teach you how to extract aperture photometry for all of the stars in a given image. Although the extraction itself is automated, there is some art to setting the parameters for extraction, and this lab is designed to teach you to choose these in an intelligent, data-driven way. \n",
    "\n",
    "To start we need to read in a raw image to work with. "
   ]
  },
  {
   "cell_type": "code",
   "execution_count": 2,
   "metadata": {
    "collapsed": true
   },
   "outputs": [],
   "source": [
    "#as an example, let's load in a randomly-selected raw Smith R band image\n",
    "image = fits.getdata('M52-007_R.fit')"
   ]
  },
  {
   "cell_type": "markdown",
   "metadata": {},
   "source": [
    "We will be using a python package called photutils, which is based on an old IRAF package of the same name. One of the key functions within this package is the DAOStarFinder function, which we'll just call \"the star finder\" here.\n",
    "\n",
    "The star finder will extract sources, defined as some multiple (which you provide) of the background/sky level, so first we need to get a reasonable estimate of the background level. This is done using the function mad_std from the astropy.stats package, as below. "
   ]
  },
  {
   "cell_type": "code",
   "execution_count": 3,
   "metadata": {},
   "outputs": [
    {
     "name": "stdout",
     "output_type": "stream",
     "text": [
      "16.3086244036\n"
     ]
    }
   ],
   "source": [
    "from astropy.stats import mad_std\n",
    "bkg_sigma = mad_std(image)\n",
    "print(bkg_sigma)"
   ]
  },
  {
   "cell_type": "code",
   "execution_count": 4,
   "metadata": {},
   "outputs": [
    {
     "name": "stdout",
     "output_type": "stream",
     "text": [
      "313.858966808\n"
     ]
    }
   ],
   "source": [
    "print(np.std(image))"
   ]
  },
  {
   "cell_type": "markdown",
   "metadata": {},
   "source": [
    "### Exercise 1. Use the resources (docstrings, wikipedia, other functions) at your disposal to answer the following questions in the cell below.  \n",
    "1. What does the mad_std function do?\n",
    "2. How is it different from the more typical np.std function? How different are the answers in these two cases, and why?  "
   ]
  },
  {
   "cell_type": "code",
   "execution_count": 7,
   "metadata": {
    "collapsed": true
   },
   "outputs": [],
   "source": [
    "?mad_std"
   ]
  },
  {
   "cell_type": "markdown",
   "metadata": {},
   "source": [
    "***Your answers go here***\n",
    "1. mad_std takes the standard deviation using the \"Median Absolute Deviation\". MAD is defined as the median of the absolute deviations from the data's median. \n",
    "\n",
    "2. The difference between np.std and MAD_std is that the MAD takes an absolute value to be the distance from the \"average\" (average being mean, median or mode)"
   ]
  },
  {
   "cell_type": "markdown",
   "metadata": {},
   "source": [
    "## 9.2 - Extracting Stars\n",
    "\n",
    "The star finder requires two parameters to extract stars in the image:  \n",
    "\n",
    "1) The threshhold, which we will define as some number of background levels, above which we will call something a star    \n",
    "2) An estimate for the FWHM of point-sources (stars) in the image  \n",
    "\n",
    "### Exercise 2\n",
    "To start, estimate the FWHM of the stars in your image using pyraf's imexam functions, as you did in Lab 8. Measure the FWHM for at least 10 stars and average them. In the cell below, paste the imexam output and calculate the average of the measurements in the cell below that. Insert your calculated average FWHM in the third cell below.  "
   ]
  },
  {
   "cell_type": "markdown",
   "metadata": {},
   "source": [
    "***insert imexam output here***"
   ]
  },
  {
   "cell_type": "code",
   "execution_count": 8,
   "metadata": {},
   "outputs": [
    {
     "name": "stdout",
     "output_type": "stream",
     "text": [
      "8.341999999999999\n"
     ]
    }
   ],
   "source": [
    "#insert calculation of average FWHM here\n",
    "star1=7.82\n",
    "star2=8.13\n",
    "star3=8.33\n",
    "star4=9.23\n",
    "star5=9.25\n",
    "star6=7.94\n",
    "star7=7.9\n",
    "star8=8.7\n",
    "star9=8.18\n",
    "star10=7.94\n",
    "\n",
    "mean = (star1+star2+star3+star4+star5+star6+star7+star8+star9+star10)/10\n",
    "print(mean)"
   ]
  },
  {
   "cell_type": "code",
   "execution_count": 10,
   "metadata": {
    "collapsed": true
   },
   "outputs": [],
   "source": [
    "#FWHM= this is a placeholder. INSERT YOUR VALUE IN PLACE OF 10 BELOW\n",
    "FWHM=8.341999999999999"
   ]
  },
  {
   "cell_type": "markdown",
   "metadata": {},
   "source": [
    "We also need to set the threshhold (described above) for star finder, which we define as some multiple (nsigma) of the background level. To start, let's set nsigma to 10, meaning that in order for somehting to be considered a star, it must have at least 10x the detector counts of the background level. \n",
    "\n",
    "The next several lines below set up the parameters for the star finder (by specifying the FWHM and threshhold parameters), apply the star finder to the image, and then extract and print the number of sources."
   ]
  },
  {
   "cell_type": "code",
   "execution_count": 11,
   "metadata": {},
   "outputs": [
    {
     "data": {
      "text/plain": [
       "545"
      ]
     },
     "execution_count": 11,
     "metadata": {},
     "output_type": "execute_result"
    }
   ],
   "source": [
    "nsigma=10\n",
    "daofind = DAOStarFinder(fwhm=FWHM, threshold=nsigma*bkg_sigma)\n",
    "sources = daofind(image)\n",
    "nstars=len(sources)\n",
    "nstars"
   ]
  },
  {
   "cell_type": "markdown",
   "metadata": {},
   "source": [
    "To check how well we're doing here, we need to be able to see how the sources that were automatically extracted line up with apparent sources in the image. To do so, we are going to write the information that star finder extracted from the sources it found into a DS9 region file, so that we can load it with the image. DS9 region files are text files where each line contains the following basic info:  \n",
    "regiontype xcen ycen FWHM  \n",
    "\n",
    "The code below writes the relevant outpt from daofind into a text file with this format. "
   ]
  },
  {
   "cell_type": "code",
   "execution_count": 12,
   "metadata": {
    "collapsed": true
   },
   "outputs": [],
   "source": [
    "xpos = np.array(sources['xcentroid'])\n",
    "ypos = np.array(sources['ycentroid'])\n",
    "f = open('M52_R.reg', 'w') #you will need to change the first input if you want to write to a different filename later\n",
    "for i in range(0,len(xpos)):\n",
    "    f.write('circle '+str(xpos[i])+' '+str(ypos[i])+' '+str(FWHM)+'\\n')\n",
    "f.close()"
   ]
  },
  {
   "cell_type": "markdown",
   "metadata": {},
   "source": [
    "To display this region file, you should open the science image in DS9, then click Region --> Load Regions and navigate to the .reg file above. When you load it, you will see green circles appear on top of all of the stars that the Star Finder has extracted. Place a screenshot of this overlay in the cell below. "
   ]
  },
  {
   "attachments": {},
   "cell_type": "markdown",
   "metadata": {},
   "source": [
    "![IMAGE](first.png)"
   ]
  },
  {
   "cell_type": "markdown",
   "metadata": {},
   "source": [
    "### Exercise 3 \n",
    "\n",
    "Using the **median-combined V and R images that you generated for Homework 9**, answer the following questions. Include code, screenshots, etc. to support your argument, and add cells below as needed to do calculations, generate new region files, etc.  \n",
    "1) How many sources can you extract at V and R for nsigma=10 from your median-combined images? How much does the number of sources vary between the two wavelengths and why, do you think?  \n",
    "2) How different are the number of extracted stars in the raw R image you used in the example vs. the reduced and median combined R image that you generated for your homework? Name at least one potential reason why they are different, and find an example in the images that shows it.  \n",
    "*Hint: An example really means a source that was identified in one image and not the other. Remember you can load multiple images in DS9, and can load a separate region file in each. Zoom in on your discrpant source. To match the zoom level and location between the two images, select Frame --> Match --> Frame --> Physical.*  \n",
    "3) For one of your images (V or R), discuss how the number of extracted sources changes when you change the nsigma threshhold. Make an argument based on the images for what you think the most reasonable limit is for this data.    "
   ]
  },
  {
   "cell_type": "markdown",
   "metadata": {},
   "source": [
    "#### 1. Problem 1 explanation and images go here"
   ]
  },
  {
   "cell_type": "code",
   "execution_count": 15,
   "metadata": {},
   "outputs": [
    {
     "name": "stdout",
     "output_type": "stream",
     "text": [
      "8.663\n"
     ]
    },
    {
     "name": "stderr",
     "output_type": "stream",
     "text": [
      "/Users/astrolab/anaconda/lib/python3.6/site-packages/photutils/detection/findstars.py:399: RuntimeWarning: invalid value encountered in greater\n",
      "  object_labels, nobjects = ndimage.label(convolved_data > threshold,\n"
     ]
    },
    {
     "name": "stdout",
     "output_type": "stream",
     "text": [
      "497\n"
     ]
    },
    {
     "name": "stderr",
     "output_type": "stream",
     "text": [
      "/Users/astrolab/anaconda/lib/python3.6/site-packages/photutils/detection/core.py:241: RuntimeWarning: invalid value encountered in greater\n",
      "  peak_goodmask = np.logical_and(peak_goodmask, (data > threshold))\n",
      "/Users/astrolab/anaconda/lib/python3.6/site-packages/astropy/table/column.py:929: RuntimeWarning: invalid value encountered in greater\n",
      "  return getattr(self.data, oper)(other)\n",
      "/Users/astrolab/anaconda/lib/python3.6/site-packages/astropy/table/column.py:929: RuntimeWarning: invalid value encountered in less\n",
      "  return getattr(self.data, oper)(other)\n"
     ]
    }
   ],
   "source": [
    "#problem 1 code goes here\n",
    "image_R = fits.getdata('M52_R_combined.fit')\n",
    "\n",
    "\n",
    "star1=8.05\n",
    "star2=9.19\n",
    "star3=8.65\n",
    "star4=8\n",
    "star5=9.32\n",
    "star6=7.89\n",
    "star7=9.35\n",
    "star8=9.19\n",
    "star9=8.85\n",
    "star10=8.14\n",
    "\n",
    "mean = (star1+star2+star3+star4+star5+star6+star7+star8+star9+star10)/10\n",
    "print(mean)\n",
    "\n",
    "FWHM_R = mean\n",
    "\n",
    "\n",
    "\n",
    "nsigma=10\n",
    "daofind = DAOStarFinder(fwhm=FWHM_R, threshold=nsigma*bkg_sigma)\n",
    "sources = daofind(image_R)\n",
    "nstars=len(sources)\n",
    "print(nstars)\n",
    "\n",
    "\n",
    "xpos = np.array(sources['xcentroid'])\n",
    "ypos = np.array(sources['ycentroid'])\n",
    "f = open('M52_R_R.reg', 'w') #you will need to change the first input if you want to write to a different filename later\n",
    "for i in range(0,len(xpos)):\n",
    "    f.write('circle '+str(xpos[i])+' '+str(ypos[i])+' '+str(FWHM)+'\\n')\n",
    "f.close()"
   ]
  },
  {
   "attachments": {},
   "cell_type": "markdown",
   "metadata": {},
   "source": [
    "![IMAGE](second.png)"
   ]
  },
  {
   "cell_type": "code",
   "execution_count": 16,
   "metadata": {},
   "outputs": [
    {
     "name": "stdout",
     "output_type": "stream",
     "text": [
      "9.996999999999998\n"
     ]
    },
    {
     "name": "stderr",
     "output_type": "stream",
     "text": [
      "/Users/astrolab/anaconda/lib/python3.6/site-packages/photutils/detection/findstars.py:399: RuntimeWarning: invalid value encountered in greater\n",
      "  object_labels, nobjects = ndimage.label(convolved_data > threshold,\n"
     ]
    },
    {
     "name": "stdout",
     "output_type": "stream",
     "text": [
      "369\n"
     ]
    },
    {
     "name": "stderr",
     "output_type": "stream",
     "text": [
      "/Users/astrolab/anaconda/lib/python3.6/site-packages/photutils/detection/core.py:241: RuntimeWarning: invalid value encountered in greater\n",
      "  peak_goodmask = np.logical_and(peak_goodmask, (data > threshold))\n",
      "/Users/astrolab/anaconda/lib/python3.6/site-packages/astropy/table/column.py:929: RuntimeWarning: invalid value encountered in greater\n",
      "  return getattr(self.data, oper)(other)\n",
      "/Users/astrolab/anaconda/lib/python3.6/site-packages/astropy/table/column.py:929: RuntimeWarning: invalid value encountered in less\n",
      "  return getattr(self.data, oper)(other)\n"
     ]
    }
   ],
   "source": [
    "#problem 1 code goes here\n",
    "image_V = fits.getdata('M52_V_combined.fit')\n",
    "\n",
    "\n",
    "star1=9.82\n",
    "star2=10.05\n",
    "star3=9.93\n",
    "star4=9.86\n",
    "star5=10.29\n",
    "star6=10.09\n",
    "star7=10\n",
    "star8=9.87\n",
    "star9=10.04\n",
    "star10=10.02\n",
    "\n",
    "mean = (star1+star2+star3+star4+star5+star6+star7+star8+star9+star10)/10\n",
    "print(mean)\n",
    "\n",
    "FWHM_V = mean\n",
    "\n",
    "\n",
    "\n",
    "nsigma=10\n",
    "daofind = DAOStarFinder(fwhm=FWHM_V, threshold=nsigma*bkg_sigma)\n",
    "sources = daofind(image_V)\n",
    "nstars=len(sources)\n",
    "print(nstars)\n",
    "\n",
    "\n",
    "xpos = np.array(sources['xcentroid'])\n",
    "ypos = np.array(sources['ycentroid'])\n",
    "f = open('M52_R_V.reg', 'w') #you will need to change the first input if you want to write to a different filename later\n",
    "for i in range(0,len(xpos)):\n",
    "    f.write('circle '+str(xpos[i])+' '+str(ypos[i])+' '+str(FWHM)+'\\n')\n",
    "f.close()"
   ]
  },
  {
   "attachments": {},
   "cell_type": "markdown",
   "metadata": {},
   "source": [
    "![IMAGE](third.png)"
   ]
  },
  {
   "cell_type": "markdown",
   "metadata": {},
   "source": [
    "For our R image we extracted 497 stars and for our V image we extracted 369 stars. This is because the R image is a band sensitive to a lower energy and therefore dimmer stars. "
   ]
  },
  {
   "cell_type": "markdown",
   "metadata": {},
   "source": [
    "#### 2. Problem 2 explanation and images go here"
   ]
  },
  {
   "cell_type": "markdown",
   "metadata": {
    "collapsed": true
   },
   "source": [
    "The number of stars registered in the raw image is 545. The number in the reduced image is 497. This is because the higher FWHM on the reduced image means that less stars (the dimmer ones) will be enough standard deviations above the noise level to actually register as a star."
   ]
  },
  {
   "attachments": {},
   "cell_type": "markdown",
   "metadata": {},
   "source": [
    "![IMAGE](fourth.png)"
   ]
  },
  {
   "cell_type": "markdown",
   "metadata": {},
   "source": [
    "#### 3. Problem 3 explanation and images go here"
   ]
  },
  {
   "cell_type": "code",
   "execution_count": 20,
   "metadata": {},
   "outputs": [
    {
     "name": "stdout",
     "output_type": "stream",
     "text": [
      "8.663\n"
     ]
    },
    {
     "name": "stderr",
     "output_type": "stream",
     "text": [
      "/Users/astrolab/anaconda/lib/python3.6/site-packages/photutils/detection/findstars.py:399: RuntimeWarning: invalid value encountered in greater\n",
      "  object_labels, nobjects = ndimage.label(convolved_data > threshold,\n",
      "/Users/astrolab/anaconda/lib/python3.6/site-packages/photutils/detection/core.py:241: RuntimeWarning: invalid value encountered in greater\n",
      "  peak_goodmask = np.logical_and(peak_goodmask, (data > threshold))\n"
     ]
    },
    {
     "name": "stdout",
     "output_type": "stream",
     "text": [
      "1196\n"
     ]
    },
    {
     "name": "stderr",
     "output_type": "stream",
     "text": [
      "/Users/astrolab/anaconda/lib/python3.6/site-packages/astropy/table/column.py:929: RuntimeWarning: invalid value encountered in greater\n",
      "  return getattr(self.data, oper)(other)\n",
      "/Users/astrolab/anaconda/lib/python3.6/site-packages/astropy/table/column.py:929: RuntimeWarning: invalid value encountered in less\n",
      "  return getattr(self.data, oper)(other)\n"
     ]
    }
   ],
   "source": [
    "#problem 3 code goes here\n",
    "image_R = fits.getdata('M52_R_combined.fit')\n",
    "\n",
    "\n",
    "star1=8.05\n",
    "star2=9.19\n",
    "star3=8.65\n",
    "star4=8\n",
    "star5=9.32\n",
    "star6=7.89\n",
    "star7=9.35\n",
    "star8=9.19\n",
    "star9=8.85\n",
    "star10=8.14\n",
    "\n",
    "mean = (star1+star2+star3+star4+star5+star6+star7+star8+star9+star10)/10\n",
    "print(mean)\n",
    "\n",
    "FWHM_R = mean\n",
    "\n",
    "\n",
    "\n",
    "nsigma=2\n",
    "daofind = DAOStarFinder(fwhm=FWHM_R, threshold=nsigma*bkg_sigma)\n",
    "sources = daofind(image_R)\n",
    "nstars=len(sources)\n",
    "print(nstars)\n",
    "\n",
    "\n",
    "xpos = np.array(sources['xcentroid'])\n",
    "ypos = np.array(sources['ycentroid'])\n",
    "f = open('M52_R_R2.reg', 'w') #you will need to change the first input if you want to write to a different filename later\n",
    "for i in range(0,len(xpos)):\n",
    "    f.write('circle '+str(xpos[i])+' '+str(ypos[i])+' '+str(FWHM)+'\\n')\n",
    "f.close()"
   ]
  },
  {
   "cell_type": "markdown",
   "metadata": {},
   "source": [
    "When we make nsigma 1 we register over 4000 sources, many of which are clearly simply products of background noise. When nsigma is 2, we only register approximately 1200 sources. As opposed to nsigma = 1, these all seem to actually be sources, making nsigma =2 a reasonable bottom limit."
   ]
  },
  {
   "attachments": {},
   "cell_type": "markdown",
   "metadata": {},
   "source": [
    "![IMAGE](fifth.png)"
   ]
  },
  {
   "cell_type": "markdown",
   "metadata": {},
   "source": [
    "### 9.3 - Aperture Photometry\n",
    "\n",
    "The next step is to actually extract the photometry, and here too there is some art to choosing parameters. Although photutils will extract the photometry for each star in an automated way, you need to intelligently choose the parameters based on your data.  \n",
    "\n",
    "The tunable parameters are:\n",
    "1. the aperture radius inside of which to count the flux from the star\n",
    "2. the inner and outer radius of the sky aperture. The annulus defined by these two numbers needs to be large enough to get a good measurement of the background level, but small enough to generally avoid confusion with other nearby sources. \n",
    "\n",
    "We'll start with some potentially reasonable values for these parameters. "
   ]
  },
  {
   "cell_type": "code",
   "execution_count": 21,
   "metadata": {
    "collapsed": true
   },
   "outputs": [],
   "source": [
    "aprad = 8\n",
    "skyin=10\n",
    "skyout=15"
   ]
  },
  {
   "cell_type": "markdown",
   "metadata": {},
   "source": [
    "### Exercise 4\n",
    "\n",
    "For each of the next two cells, write a comment describing what each line is doing in the line above it. "
   ]
  },
  {
   "cell_type": "code",
   "execution_count": 22,
   "metadata": {},
   "outputs": [
    {
     "data": {
      "text/html": [
       "&lt;QTable length=1196&gt;\n",
       "<table id=\"table4848085704\" class=\"table-striped table-bordered table-condensed\">\n",
       "<thead><tr><th>id</th><th>xcenter</th><th>ycenter</th><th>aperture_sum_0</th><th>aperture_sum_1</th></tr></thead>\n",
       "<thead><tr><th></th><th>pix</th><th>pix</th><th></th><th></th></tr></thead>\n",
       "<thead><tr><th>int64</th><th>float64</th><th>float64</th><th>float64</th><th>float64</th></tr></thead>\n",
       "<tr><td>1</td><td>1598.819318973744</td><td>34.02767752829353</td><td>242885.241427</td><td>474118.456593</td></tr>\n",
       "<tr><td>2</td><td>3013.42982130593</td><td>34.09719382856377</td><td>241592.644525</td><td>472247.864067</td></tr>\n",
       "<tr><td>3</td><td>900.27138272713</td><td>35.1241483459529</td><td>242765.167691</td><td>474165.730973</td></tr>\n",
       "<tr><td>4</td><td>2435.9288680400305</td><td>35.36475903809039</td><td>243937.451595</td><td>473672.719616</td></tr>\n",
       "<tr><td>5</td><td>2662.481761177369</td><td>37.3244327140168</td><td>242143.414382</td><td>472680.700176</td></tr>\n",
       "<tr><td>6</td><td>2813.944709726853</td><td>43.584373842088226</td><td>242063.865496</td><td>473844.974098</td></tr>\n",
       "<tr><td>7</td><td>1835.077213421611</td><td>45.88848965716383</td><td>242812.396109</td><td>474212.291408</td></tr>\n",
       "<tr><td>8</td><td>1498.6011844785041</td><td>49.006504892020686</td><td>242743.552914</td><td>474105.081909</td></tr>\n",
       "<tr><td>9</td><td>2448.805643055918</td><td>49.447539262412306</td><td>242317.738668</td><td>473347.069113</td></tr>\n",
       "<tr><td>...</td><td>...</td><td>...</td><td>...</td><td>...</td></tr>\n",
       "<tr><td>1187</td><td>2365.277837757094</td><td>2029.579384598637</td><td>241684.062474</td><td>474232.40358</td></tr>\n",
       "<tr><td>1188</td><td>1262.4028883527965</td><td>2033.8368163428188</td><td>242594.753184</td><td>443416.610117</td></tr>\n",
       "<tr><td>1189</td><td>755.501791160102</td><td>2034.2875426424062</td><td>242300.298179</td><td>433498.162169</td></tr>\n",
       "<tr><td>1190</td><td>2650.476160385139</td><td>2034.496094162934</td><td>244671.628678</td><td>429136.201136</td></tr>\n",
       "<tr><td>1191</td><td>2271.9531339596706</td><td>2037.313023030434</td><td>242118.791379</td><td>362368.610775</td></tr>\n",
       "<tr><td>1192</td><td>814.6337961643922</td><td>2038.5608501513607</td><td>242435.856204</td><td>342580.534867</td></tr>\n",
       "<tr><td>1193</td><td>2571.996451200905</td><td>2039.4709046121545</td><td>235550.977506</td><td>326135.409173</td></tr>\n",
       "<tr><td>1194</td><td>1627.4642915088734</td><td>2042.5585324650754</td><td>195099.180032</td><td>290930.5035</td></tr>\n",
       "<tr><td>1195</td><td>1705.0599781236126</td><td>2048.0565583119187</td><td>91525.2549837</td><td>219067.070896</td></tr>\n",
       "<tr><td>1196</td><td>1627.3524398335817</td><td>2055.929468742662</td><td>nan</td><td>106406.65286</td></tr>\n",
       "</table>"
      ],
      "text/plain": [
       "<QTable length=1196>\n",
       "  id       xcenter            ycenter       aperture_sum_0 aperture_sum_1\n",
       "             pix                pix                                      \n",
       "int64      float64            float64          float64        float64    \n",
       "----- ------------------ ------------------ -------------- --------------\n",
       "    1  1598.819318973744  34.02767752829353  242885.241427  474118.456593\n",
       "    2   3013.42982130593  34.09719382856377  241592.644525  472247.864067\n",
       "    3    900.27138272713   35.1241483459529  242765.167691  474165.730973\n",
       "    4 2435.9288680400305  35.36475903809039  243937.451595  473672.719616\n",
       "    5  2662.481761177369   37.3244327140168  242143.414382  472680.700176\n",
       "    6  2813.944709726853 43.584373842088226  242063.865496  473844.974098\n",
       "    7  1835.077213421611  45.88848965716383  242812.396109  474212.291408\n",
       "    8 1498.6011844785041 49.006504892020686  242743.552914  474105.081909\n",
       "    9  2448.805643055918 49.447539262412306  242317.738668  473347.069113\n",
       "  ...                ...                ...            ...            ...\n",
       " 1187  2365.277837757094  2029.579384598637  241684.062474   474232.40358\n",
       " 1188 1262.4028883527965 2033.8368163428188  242594.753184  443416.610117\n",
       " 1189   755.501791160102 2034.2875426424062  242300.298179  433498.162169\n",
       " 1190  2650.476160385139  2034.496094162934  244671.628678  429136.201136\n",
       " 1191 2271.9531339596706  2037.313023030434  242118.791379  362368.610775\n",
       " 1192  814.6337961643922 2038.5608501513607  242435.856204  342580.534867\n",
       " 1193  2571.996451200905 2039.4709046121545  235550.977506  326135.409173\n",
       " 1194 1627.4642915088734 2042.5585324650754  195099.180032    290930.5035\n",
       " 1195 1705.0599781236126 2048.0565583119187  91525.2549837  219067.070896\n",
       " 1196 1627.3524398335817  2055.929468742662            nan   106406.65286"
      ]
     },
     "execution_count": 22,
     "metadata": {},
     "output_type": "execute_result"
    }
   ],
   "source": [
    "#add comments to this cell\n",
    "\n",
    "starapertures = CircularAperture((xpos,ypos),r=aprad)\n",
    "#This line is setting the aperture that will take in source photons\n",
    "skyannuli = CircularAnnulus((xpos,ypos),r_in=skyin,r_out=skyout)\n",
    "#This one sets the annuli which determines the sky background\n",
    "phot_apers = [starapertures, skyannuli]\n",
    "#This creates an array with the values for the star-detecting aperture and the background annuli in their own respective elements\n",
    "phot_table = aperture_photometry(image,phot_apers)\n",
    "#This just creates a table and then assigns each block a value based on the aperture or annuli positions.\n",
    "phot_table\n",
    "#This plots the table"
   ]
  },
  {
   "cell_type": "code",
   "execution_count": 23,
   "metadata": {},
   "outputs": [
    {
     "data": {
      "text/html": [
       "&lt;QTable length=1196&gt;\n",
       "<table id=\"table4848085704\" class=\"table-striped table-bordered table-condensed\">\n",
       "<thead><tr><th>id</th><th>xcenter</th><th>ycenter</th><th>aperture_sum_0</th><th>aperture_sum_1</th><th>background subtracted star counts</th></tr></thead>\n",
       "<thead><tr><th></th><th>pix</th><th>pix</th><th></th><th></th><th></th></tr></thead>\n",
       "<thead><tr><th>int64</th><th>float64</th><th>float64</th><th>float64</th><th>float64</th><th>float64</th></tr></thead>\n",
       "<tr><td>1</td><td>1598.819318973744</td><td>34.02767752829353</td><td>242885.241427</td><td>474118.456593</td><td>136.591651161</td></tr>\n",
       "<tr><td>2</td><td>3013.42982130593</td><td>34.09719382856377</td><td>241592.644525</td><td>472247.864067</td><td>-198.261877106</td></tr>\n",
       "<tr><td>3</td><td>900.27138272713</td><td>35.1241483459529</td><td>242765.167691</td><td>474165.730973</td><td>-7.68656736068</td></tr>\n",
       "<tr><td>4</td><td>2435.9288680400305</td><td>35.36475903809039</td><td>243937.451595</td><td>473672.719616</td><td>1417.01915125</td></tr>\n",
       "<tr><td>5</td><td>2662.481761177369</td><td>37.3244327140168</td><td>242143.414382</td><td>472680.700176</td><td>130.895891593</td></tr>\n",
       "<tr><td>6</td><td>2813.944709726853</td><td>43.584373842088226</td><td>242063.865496</td><td>473844.974098</td><td>-544.761242467</td></tr>\n",
       "<tr><td>7</td><td>1835.077213421611</td><td>45.88848965716383</td><td>242812.396109</td><td>474212.291408</td><td>15.7029085674</td></tr>\n",
       "<tr><td>8</td><td>1498.6011844785041</td><td>49.006504892020686</td><td>242743.552914</td><td>474105.081909</td><td>1.75097728218</td></tr>\n",
       "<tr><td>9</td><td>2448.805643055918</td><td>49.447539262412306</td><td>242317.738668</td><td>473347.069113</td><td>-35.9607182699</td></tr>\n",
       "<tr><td>...</td><td>...</td><td>...</td><td>...</td><td>...</td><td>...</td></tr>\n",
       "<tr><td>1187</td><td>2365.277837757094</td><td>2029.579384598637</td><td>241684.062474</td><td>474232.40358</td><td>-1122.92815878</td></tr>\n",
       "<tr><td>1188</td><td>1262.4028883527965</td><td>2033.8368163428188</td><td>242594.753184</td><td>443416.610117</td><td>15565.4488038</td></tr>\n",
       "<tr><td>1189</td><td>755.501791160102</td><td>2034.2875426424062</td><td>242300.298179</td><td>433498.162169</td><td>20349.2391489</td></tr>\n",
       "<tr><td>1190</td><td>2650.476160385139</td><td>2034.496094162934</td><td>244671.628678</td><td>429136.201136</td><td>24953.8936964</td></tr>\n",
       "<tr><td>1191</td><td>2271.9531339596706</td><td>2037.313023030434</td><td>242118.791379</td><td>362368.610775</td><td>56586.0626625</td></tr>\n",
       "<tr><td>1192</td><td>814.6337961643922</td><td>2038.5608501513607</td><td>242435.856204</td><td>342580.534867</td><td>67034.6223522</td></tr>\n",
       "<tr><td>1193</td><td>2571.996451200905</td><td>2039.4709046121545</td><td>235550.977506</td><td>326135.409173</td><td>68569.6480091</td></tr>\n",
       "<tr><td>1194</td><td>1627.4642915088734</td><td>2042.5585324650754</td><td>195099.180032</td><td>290930.5035</td><td>46142.76224</td></tr>\n",
       "<tr><td>1195</td><td>1705.0599781236126</td><td>2048.0565583119187</td><td>91525.2549837</td><td>219067.070896</td><td>-20637.0853153</td></tr>\n",
       "<tr><td>1196</td><td>1627.3524398335817</td><td>2055.929468742662</td><td>nan</td><td>106406.65286</td><td>nan</td></tr>\n",
       "</table>"
      ],
      "text/plain": [
       "<QTable length=1196>\n",
       "  id       xcenter       ... aperture_sum_1 background subtracted star counts\n",
       "             pix         ...                                                 \n",
       "int64      float64       ...    float64                  float64             \n",
       "----- ------------------ ... -------------- ---------------------------------\n",
       "    1  1598.819318973744 ...  474118.456593                     136.591651161\n",
       "    2   3013.42982130593 ...  472247.864067                    -198.261877106\n",
       "    3    900.27138272713 ...  474165.730973                    -7.68656736068\n",
       "    4 2435.9288680400305 ...  473672.719616                     1417.01915125\n",
       "    5  2662.481761177369 ...  472680.700176                     130.895891593\n",
       "    6  2813.944709726853 ...  473844.974098                    -544.761242467\n",
       "    7  1835.077213421611 ...  474212.291408                     15.7029085674\n",
       "    8 1498.6011844785041 ...  474105.081909                     1.75097728218\n",
       "    9  2448.805643055918 ...  473347.069113                    -35.9607182699\n",
       "  ...                ... ...            ...                               ...\n",
       " 1187  2365.277837757094 ...   474232.40358                    -1122.92815878\n",
       " 1188 1262.4028883527965 ...  443416.610117                     15565.4488038\n",
       " 1189   755.501791160102 ...  433498.162169                     20349.2391489\n",
       " 1190  2650.476160385139 ...  429136.201136                     24953.8936964\n",
       " 1191 2271.9531339596706 ...  362368.610775                     56586.0626625\n",
       " 1192  814.6337961643922 ...  342580.534867                     67034.6223522\n",
       " 1193  2571.996451200905 ...  326135.409173                     68569.6480091\n",
       " 1194 1627.4642915088734 ...    290930.5035                       46142.76224\n",
       " 1195 1705.0599781236126 ...  219067.070896                    -20637.0853153\n",
       " 1196 1627.3524398335817 ...   106406.65286                               nan"
      ]
     },
     "execution_count": 23,
     "metadata": {},
     "output_type": "execute_result"
    }
   ],
   "source": [
    "#add comments to this cell\n",
    "bkg_mean = phot_table['aperture_sum_1']/skyannuli.area()\n",
    "#This gets the mean average of the background from the annulus\n",
    "bkg_starap_sum = bkg_mean * starapertures.area()\n",
    "#This is the background noise that is predicted inside of the star-detecting aperture\n",
    "final_sum = phot_table['aperture_sum_0']-bkg_starap_sum\n",
    "#This subtracts the background from the star-detecting aperture\n",
    "phot_table['background subtracted star counts'] = final_sum\n",
    "#This assigns the background-subtracted star-detecting aperture from what is detected inside the star-detecting aperture -> ideally giving us just source photons\n",
    "phot_table\n",
    "#This plots the values"
   ]
  },
  {
   "cell_type": "markdown",
   "metadata": {},
   "source": [
    "### Exercise 5 -\n",
    "\n",
    "Spend the rest of the lab time investigating what changes about the photometric measurement (background subtracted sky counts caluclated column) when you adjust the tunable parameters (aperture radius and inner/outer sky annulus) and report your findings below. You may wish to examine only a handful of stars in the table and avoid pr (to print just a few rows of a table, see the example below), but make sure the rows you select include stars with a range of brightnesses. You may also wish to make separate versions/copies of the table with different aperture parameters so that you can compare without overwriting. Think in particular about crowded fields and see if you can derive the best parameters for this case as well (identify things in the table with very close values for xcenter and ycenter to find these crowded regions). "
   ]
  },
  {
   "cell_type": "code",
   "execution_count": 50,
   "metadata": {},
   "outputs": [
    {
     "data": {
      "text/html": [
       "&lt;QTable length=10&gt;\n",
       "<table id=\"table5013874280\" class=\"table-striped table-bordered table-condensed\">\n",
       "<thead><tr><th>id</th><th>xcenter</th><th>ycenter</th><th>aperture_sum_0</th><th>aperture_sum_1</th><th>background subtracted star counts</th></tr></thead>\n",
       "<thead><tr><th></th><th>pix</th><th>pix</th><th></th><th></th><th></th></tr></thead>\n",
       "<thead><tr><th>int64</th><th>float64</th><th>float64</th><th>float64</th><th>float64</th><th>float64</th></tr></thead>\n",
       "<tr><td>7</td><td>1835.077213421611</td><td>45.88848965716383</td><td>94917.5666713</td><td>1042835.49027</td><td>114.340282709</td></tr>\n",
       "<tr><td>8</td><td>1498.6011844785041</td><td>49.006504892020686</td><td>94938.7671384</td><td>1042951.88346</td><td>124.959551611</td></tr>\n",
       "<tr><td>9</td><td>2448.805643055918</td><td>49.447539262412306</td><td>94754.4476445</td><td>1040900.01169</td><td>127.173854416</td></tr>\n",
       "<tr><td>10</td><td>2007.757925486525</td><td>51.62678637785862</td><td>94601.4197092</td><td>1040932.48749</td><td>-28.8064265728</td></tr>\n",
       "<tr><td>11</td><td>1562.7151354347313</td><td>52.565497369716574</td><td>94687.4651249</td><td>1058158.84929</td><td>-1508.79390132</td></tr>\n",
       "<tr><td>12</td><td>2367.7477519996864</td><td>52.90181110415589</td><td>94698.2655138</td><td>1040451.57171</td><td>111.758994381</td></tr>\n",
       "<tr><td>13</td><td>2746.96265698573</td><td>53.25758553044239</td><td>94533.9460388</td><td>1038853.2262</td><td>92.7436569777</td></tr>\n",
       "<tr><td>14</td><td>2589.542861238097</td><td>54.86357879265668</td><td>102123.828457</td><td>1896211.50057</td><td>-70259.0352305</td></tr>\n",
       "<tr><td>15</td><td>2837.6688882238427</td><td>54.42905059873539</td><td>94328.5115677</td><td>1039108.64085</td><td>-135.910327951</td></tr>\n",
       "<tr><td>16</td><td>575.2696769550441</td><td>62.855778779429755</td><td>95063.3159518</td><td>1041587.93672</td><td>373.503522886</td></tr>\n",
       "</table>"
      ],
      "text/plain": [
       "<QTable length=10>\n",
       "  id       xcenter       ... aperture_sum_1 background subtracted star counts\n",
       "             pix         ...                                                 \n",
       "int64      float64       ...    float64                  float64             \n",
       "----- ------------------ ... -------------- ---------------------------------\n",
       "    7  1835.077213421611 ...  1042835.49027                     114.340282709\n",
       "    8 1498.6011844785041 ...  1042951.88346                     124.959551611\n",
       "    9  2448.805643055918 ...  1040900.01169                     127.173854416\n",
       "   10  2007.757925486525 ...  1040932.48749                    -28.8064265728\n",
       "   11 1562.7151354347313 ...  1058158.84929                    -1508.79390132\n",
       "   12 2367.7477519996864 ...  1040451.57171                     111.758994381\n",
       "   13   2746.96265698573 ...   1038853.2262                     92.7436569777\n",
       "   14  2589.542861238097 ...  1896211.50057                    -70259.0352305\n",
       "   15 2837.6688882238427 ...  1039108.64085                    -135.910327951\n",
       "   16  575.2696769550441 ...  1041587.93672                     373.503522886"
      ]
     },
     "execution_count": 50,
     "metadata": {},
     "output_type": "execute_result"
    }
   ],
   "source": [
    "#example of printing just a few rows in a table - chosen to be one bright star, one faint\n",
    "\n",
    "aprad = 5\n",
    "skyin=1\n",
    "skyout=10\n",
    "\n",
    "starapertures = CircularAperture((xpos,ypos),r=aprad)\n",
    "#This line is setting the aperture that will take in source photons\n",
    "skyannuli = CircularAnnulus((xpos,ypos),r_in=skyin,r_out=skyout)\n",
    "#This one sets the annuli which determines the sky background\n",
    "phot_apers = [starapertures, skyannuli]\n",
    "#This creates an array with the values for the star-detecting aperture and the background annuli in their own respective elements\n",
    "phot_table = aperture_photometry(image,phot_apers)\n",
    "\n",
    "bkg_mean = phot_table['aperture_sum_1']/skyannuli.area()\n",
    "#This gets the mean average of the background from the annulus\n",
    "bkg_starap_sum = bkg_mean * starapertures.area()\n",
    "#This is the background noise that is predicted inside of the star-detecting aperture\n",
    "final_sum = phot_table['aperture_sum_0']-bkg_starap_sum\n",
    "#This subtracts the background from the star-detecting aperture\n",
    "phot_table['background subtracted star counts'] = final_sum\n",
    "#This assigns the background-subtracted star-detecting aperture from what is detected inside the star-detecting aperture -> ideally giving us just source photons\n",
    "phot_table[6:16]\n",
    "#This plots the values"
   ]
  },
  {
   "cell_type": "markdown",
   "metadata": {},
   "source": [
    "In order to get the best parameters you need to establish what should be consisten throughout the image: this would be the background (ideally speaking of course). To therefore find this value you want to adjust the inner and outer annuli until the aperture_sum_1 column gives a ralatively consisten number. This would mean that you have reached the best case scenerio with which to adjust the aperture data. \n",
    "\n",
    "The aperture data is extremely unpredictable, unlike the background sky. We therefore must be able to trust our value for the background sky (aperture_sum_1). When we subtract the background from the aperture/star values, we get our calculated value for the star in the final column, \"background subtracted star counts\". We know that if this column has negative values, we need to be more strict with the number of standard deviations with which we require pixels to be before we register them as stars -> i.e. we must increase nsigma. A negative value in the \"background subtracted star counts\" could also be caused by the value of an even brighter star being subtracted from the aperture radius. This would occur if a star was also located inside the annuli. *However*, this is unlikely to be a problem if our background values/aperture_sum_1's are all the same, or at least approximately consistent. We can therefore safely assume this isn't happening so long as we have a large number of stars being sampled, all with consisten background values.\n",
    "\n",
    "Once you have the background subtracted from the aperture radius you should be left with the starlight alone."
   ]
  },
  {
   "cell_type": "code",
   "execution_count": null,
   "metadata": {},
   "outputs": [],
   "source": []
  }
 ],
 "metadata": {
  "anaconda-cloud": {},
  "kernelspec": {
   "display_name": "Python 3",
   "language": "python",
   "name": "python3"
  },
  "language_info": {
   "codemirror_mode": {
    "name": "ipython",
    "version": 3
   },
   "file_extension": ".py",
   "mimetype": "text/x-python",
   "name": "python",
   "nbconvert_exporter": "python",
   "pygments_lexer": "ipython3",
   "version": "3.6.4"
  }
 },
 "nbformat": 4,
 "nbformat_minor": 1
}
